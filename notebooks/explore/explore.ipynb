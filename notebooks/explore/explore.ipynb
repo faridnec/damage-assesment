{
 "cells": [
  {
   "cell_type": "markdown",
   "metadata": {},
   "source": [
    "<!-- # Explore the Dataset\n",
    "\n",
    "In this notebook, we will explore the collected satellite imagery datasets around the world. We focus on earthquake influenced area. The dataset is obtained from `xBD: A Dataset for Assessing Building Damage from Satellite Imagery`. [![arXiv](https://img.shields.io/badge/arXiv-1911.09296-b31b1b.svg)](https://arxiv.org/abs/1911.09296)\n",
    "\n",
    "xBD provides pre- and post-event multi-band satellite imagery from a variety of disaster events with building polygons, classification labels for damage types, ordinal labels of damage level, and corresponding satellite metadata. Furthermore, the dataset contains bounding boxes and labels for environmental factors such as fire, water, and smoke. xBD will be the largest building damage assessment dataset to date, containing ∼700,000 building annotations across over 5,000 km2 of imagery from 15 countries.\n",
    "\n",
    "*Reference:*\n",
    "\n",
    "Gupta, R., Hosfelt, R., Sajeev, S., Patel, N., Goodman, B., Doshi, J., Heim, E., Choset, H., & Gaston, M. (2019, November 21). xBD: A Dataset for Assessing Building Damage from Satellite Imagery. -->\n",
    "\n",
    "# Veri Seti\n",
    "\n",
    "Bu defterde dünya çapında toplanan uydu görüntüleri veri setini inceleyeceğiz. Depremden etkilenen bölgelere odaklanıyoruz. Veri seti `xBD: A Dataset for Assessing Building Damage from Satellite Imagery`'nden elde edilmiştir. [![arXiv](https://img.shields.io/badge/arXiv-1911.09296-b31b1b.svg)](https://arxiv.org/abs/1911.09296)\n",
    "\n",
    "xBD, bina poligonları, hasar türleri için sınıflandırma etiketleri, hasar düzeyi sıralı etiketleri ve ilgili uydu meta verileriyle çeşitli afet olaylarından olay öncesi ve sonrası çok bantlı uydu görüntüleri sağlar. Ayrıca veri kümesi, yangın, su ve duman gibi çevresel faktörler için sınırlayıcı kutular ve etiketler içerir. xBD, 15 ülkeden 5.000 km2'den fazla görüntüde yaklaşık 700.000 bina açıklaması içeren bugüne kadarki en büyük bina hasarı değerlendirme veri seti olacak.\n",
    "\n",
    "*Referans:*\n",
    "\n",
    "Gupta, R., Hosfelt, R., Sajeev, S., Patel, N., Goodman, B., Doshi, J., Heim, E., Choset, H., & Gaston, M. (2019, November 21). xBD: A Dataset for Assessing Building Damage from Satellite Imagery."
   ]
  },
  {
   "cell_type": "markdown",
   "metadata": {},
   "source": [
    "## 1. Python paketleri yükleme"
   ]
  },
  {
   "cell_type": "code",
   "execution_count": 1,
   "metadata": {},
   "outputs": [
    {
     "name": "stdout",
     "output_type": "stream",
     "text": [
      "Tüm paketler başarıyla içe yüklendi\n"
     ]
    }
   ],
   "source": [
    "import pandas as pd\n",
    "import ipywidgets as widgets\n",
    "from ipywidgets import interact\n",
    "\n",
    "import utils\n",
    "\n",
    "print('Tüm paketler başarıyla yüklendi')"
   ]
  },
  {
   "cell_type": "markdown",
   "metadata": {},
   "source": [
    "## 2. Veriseti gözden geçirmesi\n",
    "\n",
    "Veriseti hakkında daha iyi bilgi edinmek için görüntüyü ve konumunu görüntülüyoruz"
   ]
  },
  {
   "cell_type": "code",
   "execution_count": 2,
   "metadata": {},
   "outputs": [
    {
     "data": {
      "application/vnd.jupyter.widget-view+json": {
       "model_id": "cc79e8eb0f8045019ce8ef54945d2f3d",
       "version_major": 2,
       "version_minor": 0
      },
      "text/plain": [
       "FileChooser(path='D:\\Ders\\Donem 7\\Tasarim\\project\\damage-assessment\\data\\test', filename='', title='', show_hi…"
      ]
     },
     "metadata": {},
     "output_type": "display_data"
    },
    {
     "data": {
      "application/vnd.jupyter.widget-view+json": {
       "model_id": "b4d5f835e83a43b9b9717089c3933288",
       "version_major": 2,
       "version_minor": 0
      },
      "text/plain": [
       "HBox(children=(Output(layout=Layout(height='400px', width='30%')), Output(layout=Layout(height='400px', width=…"
      ]
     },
     "metadata": {},
     "output_type": "display_data"
    }
   ],
   "source": [
    "components = utils.images_on_server(display)\n",
    "\n",
    "display(components['fileChooser'])\n",
    "\n",
    "display(components['output'])"
   ]
  },
  {
   "cell_type": "markdown",
   "metadata": {},
   "source": [
    "## 3. Veriseti Hazırlanması\n",
    "\n",
    "```\n",
    "|- data\n",
    "  |- train\n",
    "    |- visible_damage\n",
    "    |- no_damage\n",
    "  |- validation\n",
    "    |- visible_damage\n",
    "    |- no_damage\n",
    "  |- test\n",
    "    |- visible_damage\n",
    "    |- no_damage\n",
    "```"
   ]
  },
  {
   "cell_type": "code",
   "execution_count": 3,
   "metadata": {},
   "outputs": [
    {
     "data": {
      "text/html": [
       "<div>\n",
       "<style scoped>\n",
       "    .dataframe tbody tr th:only-of-type {\n",
       "        vertical-align: middle;\n",
       "    }\n",
       "\n",
       "    .dataframe tbody tr th {\n",
       "        vertical-align: top;\n",
       "    }\n",
       "\n",
       "    .dataframe thead th {\n",
       "        text-align: right;\n",
       "    }\n",
       "</style>\n",
       "<table border=\"1\" class=\"dataframe\">\n",
       "  <thead>\n",
       "    <tr style=\"text-align: right;\">\n",
       "      <th></th>\n",
       "      <th>subset</th>\n",
       "      <th>label</th>\n",
       "      <th>loc</th>\n",
       "      <th>no</th>\n",
       "      <th>lon</th>\n",
       "      <th>lat</th>\n",
       "      <th>path</th>\n",
       "      <th>filename</th>\n",
       "    </tr>\n",
       "  </thead>\n",
       "  <tbody>\n",
       "    <tr>\n",
       "      <th>0</th>\n",
       "      <td>train</td>\n",
       "      <td>visible_damage</td>\n",
       "      <td>mexico-earthquake</td>\n",
       "      <td>00000000</td>\n",
       "      <td>disaster</td>\n",
       "      <td>post</td>\n",
       "      <td>train\\visible_damage\\mexico-earthquake_0000000...</td>\n",
       "      <td>mexico-earthquake_00000000_post_disaster.png</td>\n",
       "    </tr>\n",
       "    <tr>\n",
       "      <th>1</th>\n",
       "      <td>train</td>\n",
       "      <td>visible_damage</td>\n",
       "      <td>mexico-earthquake</td>\n",
       "      <td>00000001</td>\n",
       "      <td>disaster</td>\n",
       "      <td>post</td>\n",
       "      <td>train\\visible_damage\\mexico-earthquake_0000000...</td>\n",
       "      <td>mexico-earthquake_00000001_post_disaster.png</td>\n",
       "    </tr>\n",
       "    <tr>\n",
       "      <th>2</th>\n",
       "      <td>train</td>\n",
       "      <td>visible_damage</td>\n",
       "      <td>mexico-earthquake</td>\n",
       "      <td>00000002</td>\n",
       "      <td>disaster</td>\n",
       "      <td>post</td>\n",
       "      <td>train\\visible_damage\\mexico-earthquake_0000000...</td>\n",
       "      <td>mexico-earthquake_00000002_post_disaster.png</td>\n",
       "    </tr>\n",
       "    <tr>\n",
       "      <th>3</th>\n",
       "      <td>train</td>\n",
       "      <td>visible_damage</td>\n",
       "      <td>mexico-earthquake</td>\n",
       "      <td>00000003</td>\n",
       "      <td>disaster</td>\n",
       "      <td>post</td>\n",
       "      <td>train\\visible_damage\\mexico-earthquake_0000000...</td>\n",
       "      <td>mexico-earthquake_00000003_post_disaster.png</td>\n",
       "    </tr>\n",
       "    <tr>\n",
       "      <th>4</th>\n",
       "      <td>train</td>\n",
       "      <td>visible_damage</td>\n",
       "      <td>mexico-earthquake</td>\n",
       "      <td>00000004</td>\n",
       "      <td>disaster</td>\n",
       "      <td>post</td>\n",
       "      <td>train\\visible_damage\\mexico-earthquake_0000000...</td>\n",
       "      <td>mexico-earthquake_00000004_post_disaster.png</td>\n",
       "    </tr>\n",
       "    <tr>\n",
       "      <th>...</th>\n",
       "      <td>...</td>\n",
       "      <td>...</td>\n",
       "      <td>...</td>\n",
       "      <td>...</td>\n",
       "      <td>...</td>\n",
       "      <td>...</td>\n",
       "      <td>...</td>\n",
       "      <td>...</td>\n",
       "    </tr>\n",
       "    <tr>\n",
       "      <th>623</th>\n",
       "      <td>test</td>\n",
       "      <td>no_damage</td>\n",
       "      <td>palu-tsunami</td>\n",
       "      <td>00000181</td>\n",
       "      <td>disaster</td>\n",
       "      <td>pre</td>\n",
       "      <td>test\\no_damage\\palu-tsunami_00000181_pre_disas...</td>\n",
       "      <td>palu-tsunami_00000181_pre_disaster.png</td>\n",
       "    </tr>\n",
       "    <tr>\n",
       "      <th>624</th>\n",
       "      <td>test</td>\n",
       "      <td>no_damage</td>\n",
       "      <td>palu-tsunami</td>\n",
       "      <td>00000184</td>\n",
       "      <td>disaster</td>\n",
       "      <td>pre</td>\n",
       "      <td>test\\no_damage\\palu-tsunami_00000184_pre_disas...</td>\n",
       "      <td>palu-tsunami_00000184_pre_disaster.png</td>\n",
       "    </tr>\n",
       "    <tr>\n",
       "      <th>625</th>\n",
       "      <td>test</td>\n",
       "      <td>no_damage</td>\n",
       "      <td>palu-tsunami</td>\n",
       "      <td>00000185</td>\n",
       "      <td>disaster</td>\n",
       "      <td>pre</td>\n",
       "      <td>test\\no_damage\\palu-tsunami_00000185_pre_disas...</td>\n",
       "      <td>palu-tsunami_00000185_pre_disaster.png</td>\n",
       "    </tr>\n",
       "    <tr>\n",
       "      <th>626</th>\n",
       "      <td>test</td>\n",
       "      <td>no_damage</td>\n",
       "      <td>palu-tsunami</td>\n",
       "      <td>00000193</td>\n",
       "      <td>disaster</td>\n",
       "      <td>pre</td>\n",
       "      <td>test\\no_damage\\palu-tsunami_00000193_pre_disas...</td>\n",
       "      <td>palu-tsunami_00000193_pre_disaster.png</td>\n",
       "    </tr>\n",
       "    <tr>\n",
       "      <th>627</th>\n",
       "      <td>test</td>\n",
       "      <td>no_damage</td>\n",
       "      <td>palu-tsunami</td>\n",
       "      <td>00000194</td>\n",
       "      <td>-0.9917246380966664</td>\n",
       "      <td>119.9115846217947</td>\n",
       "      <td>test\\no_damage\\palu-tsunami_00000194_119.91158...</td>\n",
       "      <td>palu-tsunami_00000194_119.9115846217947_-0.991...</td>\n",
       "    </tr>\n",
       "  </tbody>\n",
       "</table>\n",
       "<p>628 rows × 8 columns</p>\n",
       "</div>"
      ],
      "text/plain": [
       "    subset           label                loc        no                  lon  \\\n",
       "0    train  visible_damage  mexico-earthquake  00000000             disaster   \n",
       "1    train  visible_damage  mexico-earthquake  00000001             disaster   \n",
       "2    train  visible_damage  mexico-earthquake  00000002             disaster   \n",
       "3    train  visible_damage  mexico-earthquake  00000003             disaster   \n",
       "4    train  visible_damage  mexico-earthquake  00000004             disaster   \n",
       "..     ...             ...                ...       ...                  ...   \n",
       "623   test       no_damage       palu-tsunami  00000181             disaster   \n",
       "624   test       no_damage       palu-tsunami  00000184             disaster   \n",
       "625   test       no_damage       palu-tsunami  00000185             disaster   \n",
       "626   test       no_damage       palu-tsunami  00000193             disaster   \n",
       "627   test       no_damage       palu-tsunami  00000194  -0.9917246380966664   \n",
       "\n",
       "                   lat                                               path  \\\n",
       "0                 post  train\\visible_damage\\mexico-earthquake_0000000...   \n",
       "1                 post  train\\visible_damage\\mexico-earthquake_0000000...   \n",
       "2                 post  train\\visible_damage\\mexico-earthquake_0000000...   \n",
       "3                 post  train\\visible_damage\\mexico-earthquake_0000000...   \n",
       "4                 post  train\\visible_damage\\mexico-earthquake_0000000...   \n",
       "..                 ...                                                ...   \n",
       "623                pre  test\\no_damage\\palu-tsunami_00000181_pre_disas...   \n",
       "624                pre  test\\no_damage\\palu-tsunami_00000184_pre_disas...   \n",
       "625                pre  test\\no_damage\\palu-tsunami_00000185_pre_disas...   \n",
       "626                pre  test\\no_damage\\palu-tsunami_00000193_pre_disas...   \n",
       "627  119.9115846217947  test\\no_damage\\palu-tsunami_00000194_119.91158...   \n",
       "\n",
       "                                              filename  \n",
       "0         mexico-earthquake_00000000_post_disaster.png  \n",
       "1         mexico-earthquake_00000001_post_disaster.png  \n",
       "2         mexico-earthquake_00000002_post_disaster.png  \n",
       "3         mexico-earthquake_00000003_post_disaster.png  \n",
       "4         mexico-earthquake_00000004_post_disaster.png  \n",
       "..                                                 ...  \n",
       "623             palu-tsunami_00000181_pre_disaster.png  \n",
       "624             palu-tsunami_00000184_pre_disaster.png  \n",
       "625             palu-tsunami_00000185_pre_disaster.png  \n",
       "626             palu-tsunami_00000193_pre_disaster.png  \n",
       "627  palu-tsunami_00000194_119.9115846217947_-0.991...  \n",
       "\n",
       "[628 rows x 8 columns]"
      ]
     },
     "execution_count": 3,
     "metadata": {},
     "output_type": "execute_result"
    }
   ],
   "source": [
    "metadata = utils.get_dataframe_from_file_structure()\n",
    "\n",
    "# Display the first five rows of the dataset\n",
    "metadata"
   ]
  },
  {
   "cell_type": "markdown",
   "metadata": {},
   "source": [
    "## 4. Verileri incelenmesi\n",
    "\n",
    "Üç bölümün (train, val ve test) her biri için kategorilerin (hasarlı ve hasarsız) her biri için kaç görselimiz olduğuna bakabiliriz"
   ]
  },
  {
   "cell_type": "markdown",
   "metadata": {},
   "source": [
    "### 4.1 Veriseti bölünmesinde görüntü dağıtımını anlamak"
   ]
  },
  {
   "cell_type": "code",
   "execution_count": 4,
   "metadata": {},
   "outputs": [
    {
     "data": {
      "text/html": [
       "<div>\n",
       "<style scoped>\n",
       "    .dataframe tbody tr th:only-of-type {\n",
       "        vertical-align: middle;\n",
       "    }\n",
       "\n",
       "    .dataframe tbody tr th {\n",
       "        vertical-align: top;\n",
       "    }\n",
       "\n",
       "    .dataframe thead th {\n",
       "        text-align: right;\n",
       "    }\n",
       "</style>\n",
       "<table border=\"1\" class=\"dataframe\">\n",
       "  <thead>\n",
       "    <tr style=\"text-align: right;\">\n",
       "      <th>label</th>\n",
       "      <th>no_damage</th>\n",
       "      <th>visible_damage</th>\n",
       "      <th>total</th>\n",
       "    </tr>\n",
       "    <tr>\n",
       "      <th>subset</th>\n",
       "      <th></th>\n",
       "      <th></th>\n",
       "      <th></th>\n",
       "    </tr>\n",
       "  </thead>\n",
       "  <tbody>\n",
       "    <tr>\n",
       "      <th>test</th>\n",
       "      <td>80</td>\n",
       "      <td>80</td>\n",
       "      <td>160</td>\n",
       "    </tr>\n",
       "    <tr>\n",
       "      <th>train</th>\n",
       "      <td>198</td>\n",
       "      <td>198</td>\n",
       "      <td>396</td>\n",
       "    </tr>\n",
       "    <tr>\n",
       "      <th>validation</th>\n",
       "      <td>36</td>\n",
       "      <td>36</td>\n",
       "      <td>72</td>\n",
       "    </tr>\n",
       "  </tbody>\n",
       "</table>\n",
       "</div>"
      ],
      "text/plain": [
       "label       no_damage  visible_damage  total\n",
       "subset                                      \n",
       "test               80              80    160\n",
       "train             198             198    396\n",
       "validation         36              36     72"
      ]
     },
     "execution_count": 4,
     "metadata": {},
     "output_type": "execute_result"
    }
   ],
   "source": [
    "# Create dataframe that summarizes image classification in each subset\n",
    "# Create a spreadsheet-style pivot table as a DataFrame.\n",
    "df = pd.pivot_table(metadata, index='subset', columns='label', values='filename', aggfunc='count')\n",
    "\n",
    "# Add new column with total number of images in each subset\n",
    "df['total'] = df['visible_damage'] + df['no_damage']\n",
    "\n",
    "# Show dataframe\n",
    "df"
   ]
  },
  {
   "cell_type": "markdown",
   "metadata": {},
   "source": [
    "## 5. Deprem öncesi ve afet sonrası görüntülerin karşılaştırılması\n",
    "\n",
    "Burada depremden önce ve sonra farklı görüntüler çiziyoruz ve farklı görüntü eşitlerine bakmak için widget'ı kullanarak etkilenen binaların nasıl göründüğünü kontrol ediyoruz. `Image Num` parametresi no_damage training dizinindeki her görüntünün dizin numarasına karşılık gelir."
   ]
  },
  {
   "cell_type": "code",
   "execution_count": 5,
   "metadata": {},
   "outputs": [
    {
     "ename": "TraitError",
     "evalue": "setting min > max",
     "output_type": "error",
     "traceback": [
      "\u001b[1;31m---------------------------------------------------------------------------\u001b[0m",
      "\u001b[1;31mTraitError\u001b[0m                                Traceback (most recent call last)",
      "Cell \u001b[1;32mIn[5], line 7\u001b[0m\n\u001b[0;32m      3\u001b[0m matches \u001b[38;5;241m=\u001b[39m \u001b[38;5;28mlist\u001b[39m(\u001b[38;5;28mset\u001b[39m(metadata\u001b[38;5;241m.\u001b[39mquery(\u001b[38;5;124mf\u001b[39m\u001b[38;5;124m'\u001b[39m\u001b[38;5;124msubset == \u001b[39m\u001b[38;5;124m\"\u001b[39m\u001b[38;5;132;01m{\u001b[39;00mdataset\u001b[38;5;132;01m}\u001b[39;00m\u001b[38;5;124m\"\u001b[39m\u001b[38;5;124m & label == \u001b[39m\u001b[38;5;124m\"\u001b[39m\u001b[38;5;124mvisible_damage\u001b[39m\u001b[38;5;124m\"\u001b[39m\u001b[38;5;124m'\u001b[39m)[\u001b[38;5;124m'\u001b[39m\u001b[38;5;124mfilename\u001b[39m\u001b[38;5;124m'\u001b[39m])\n\u001b[0;32m      4\u001b[0m                \u001b[38;5;241m.\u001b[39mintersection(metadata\u001b[38;5;241m.\u001b[39mquery(\u001b[38;5;124mf\u001b[39m\u001b[38;5;124m'\u001b[39m\u001b[38;5;124msubset == \u001b[39m\u001b[38;5;124m\"\u001b[39m\u001b[38;5;132;01m{\u001b[39;00mdataset\u001b[38;5;132;01m}\u001b[39;00m\u001b[38;5;124m\"\u001b[39m\u001b[38;5;124m & label == \u001b[39m\u001b[38;5;124m\"\u001b[39m\u001b[38;5;124mno_damage\u001b[39m\u001b[38;5;124m\"\u001b[39m\u001b[38;5;124m'\u001b[39m)[\u001b[38;5;124m'\u001b[39m\u001b[38;5;124mfilename\u001b[39m\u001b[38;5;124m'\u001b[39m]))\n\u001b[0;32m      6\u001b[0m \u001b[38;5;66;03m# Load index slider to navigate between the paired images\u001b[39;00m\n\u001b[1;32m----> 7\u001b[0m file_index_widget \u001b[38;5;241m=\u001b[39m \u001b[43mwidgets\u001b[49m\u001b[38;5;241;43m.\u001b[39;49m\u001b[43mIntSlider\u001b[49m\u001b[43m(\u001b[49m\u001b[38;5;28;43mmin\u001b[39;49m\u001b[38;5;241;43m=\u001b[39;49m\u001b[38;5;241;43m0\u001b[39;49m\u001b[43m,\u001b[49m\u001b[43m \u001b[49m\u001b[38;5;28;43mmax\u001b[39;49m\u001b[38;5;241;43m=\u001b[39;49m\u001b[38;5;28;43mlen\u001b[39;49m\u001b[43m(\u001b[49m\u001b[43mmatches\u001b[49m\u001b[43m)\u001b[49m\u001b[38;5;241;43m-\u001b[39;49m\u001b[38;5;241;43m1\u001b[39;49m\u001b[43m,\u001b[49m\u001b[43m \u001b[49m\u001b[43mvalue\u001b[49m\u001b[38;5;241;43m=\u001b[39;49m\u001b[38;5;241;43m10\u001b[39;49m\u001b[43m,\u001b[49m\u001b[43m \u001b[49m\u001b[43mdescription\u001b[49m\u001b[38;5;241;43m=\u001b[39;49m\u001b[38;5;124;43m'\u001b[39;49m\u001b[38;5;124;43mImage Num\u001b[39;49m\u001b[38;5;124;43m'\u001b[39;49m\u001b[43m)\u001b[49m\n\u001b[0;32m      9\u001b[0m \u001b[38;5;66;03m# Load visualizer to match paired images\u001b[39;00m\n\u001b[0;32m     10\u001b[0m interact(utils\u001b[38;5;241m.\u001b[39minteractive_plot_pair(\u001b[38;5;124mf\u001b[39m\u001b[38;5;124m'\u001b[39m\u001b[38;5;124m../../data/\u001b[39m\u001b[38;5;132;01m{\u001b[39;00mdataset\u001b[38;5;132;01m}\u001b[39;00m\u001b[38;5;124m/\u001b[39m\u001b[38;5;124m'\u001b[39m, matches), file_index\u001b[38;5;241m=\u001b[39mfile_index_widget);\n",
      "File \u001b[1;32md:\\Anaconda\\Lib\\site-packages\\ipywidgets\\widgets\\widget_int.py:63\u001b[0m, in \u001b[0;36m_bounded_int_doc.<locals>.__init__\u001b[1;34m(self, value, min, max, step, **kwargs)\u001b[0m\n\u001b[0;32m     61\u001b[0m \u001b[38;5;28;01mif\u001b[39;00m step \u001b[38;5;129;01mis\u001b[39;00m \u001b[38;5;129;01mnot\u001b[39;00m \u001b[38;5;28;01mNone\u001b[39;00m:\n\u001b[0;32m     62\u001b[0m     kwargs[\u001b[38;5;124m'\u001b[39m\u001b[38;5;124mstep\u001b[39m\u001b[38;5;124m'\u001b[39m] \u001b[38;5;241m=\u001b[39m step\n\u001b[1;32m---> 63\u001b[0m \u001b[38;5;28;43msuper\u001b[39;49m\u001b[43m(\u001b[49m\u001b[38;5;28;43mcls\u001b[39;49m\u001b[43m,\u001b[49m\u001b[43m \u001b[49m\u001b[38;5;28;43mself\u001b[39;49m\u001b[43m)\u001b[49m\u001b[38;5;241;43m.\u001b[39;49m\u001b[38;5;21;43m__init__\u001b[39;49m\u001b[43m(\u001b[49m\u001b[38;5;241;43m*\u001b[39;49m\u001b[38;5;241;43m*\u001b[39;49m\u001b[43mkwargs\u001b[49m\u001b[43m)\u001b[49m\n",
      "File \u001b[1;32md:\\Anaconda\\Lib\\site-packages\\ipywidgets\\widgets\\widget_int.py:95\u001b[0m, in \u001b[0;36m_BoundedInt.__init__\u001b[1;34m(self, value, min, max, step, **kwargs)\u001b[0m\n\u001b[0;32m     93\u001b[0m \u001b[38;5;28;01mif\u001b[39;00m step \u001b[38;5;129;01mis\u001b[39;00m \u001b[38;5;129;01mnot\u001b[39;00m \u001b[38;5;28;01mNone\u001b[39;00m:\n\u001b[0;32m     94\u001b[0m     kwargs[\u001b[38;5;124m'\u001b[39m\u001b[38;5;124mstep\u001b[39m\u001b[38;5;124m'\u001b[39m] \u001b[38;5;241m=\u001b[39m step\n\u001b[1;32m---> 95\u001b[0m \u001b[38;5;28;43msuper\u001b[39;49m\u001b[43m(\u001b[49m\u001b[43m)\u001b[49m\u001b[38;5;241;43m.\u001b[39;49m\u001b[38;5;21;43m__init__\u001b[39;49m\u001b[43m(\u001b[49m\u001b[38;5;241;43m*\u001b[39;49m\u001b[38;5;241;43m*\u001b[39;49m\u001b[43mkwargs\u001b[49m\u001b[43m)\u001b[49m\n",
      "File \u001b[1;32md:\\Anaconda\\Lib\\site-packages\\ipywidgets\\widgets\\widget_int.py:77\u001b[0m, in \u001b[0;36m_Int.__init__\u001b[1;34m(self, value, **kwargs)\u001b[0m\n\u001b[0;32m     75\u001b[0m \u001b[38;5;28;01mif\u001b[39;00m value \u001b[38;5;129;01mis\u001b[39;00m \u001b[38;5;129;01mnot\u001b[39;00m \u001b[38;5;28;01mNone\u001b[39;00m:\n\u001b[0;32m     76\u001b[0m     kwargs[\u001b[38;5;124m'\u001b[39m\u001b[38;5;124mvalue\u001b[39m\u001b[38;5;124m'\u001b[39m] \u001b[38;5;241m=\u001b[39m value\n\u001b[1;32m---> 77\u001b[0m \u001b[38;5;28;43msuper\u001b[39;49m\u001b[43m(\u001b[49m\u001b[43m)\u001b[49m\u001b[38;5;241;43m.\u001b[39;49m\u001b[38;5;21;43m__init__\u001b[39;49m\u001b[43m(\u001b[49m\u001b[38;5;241;43m*\u001b[39;49m\u001b[38;5;241;43m*\u001b[39;49m\u001b[43mkwargs\u001b[49m\u001b[43m)\u001b[49m\n",
      "File \u001b[1;32md:\\Anaconda\\Lib\\site-packages\\ipywidgets\\widgets\\widget_description.py:35\u001b[0m, in \u001b[0;36mDescriptionWidget.__init__\u001b[1;34m(self, *args, **kwargs)\u001b[0m\n\u001b[0;32m     33\u001b[0m     kwargs\u001b[38;5;241m.\u001b[39msetdefault(\u001b[38;5;124m'\u001b[39m\u001b[38;5;124mtooltip\u001b[39m\u001b[38;5;124m'\u001b[39m, kwargs[\u001b[38;5;124m'\u001b[39m\u001b[38;5;124mdescription_tooltip\u001b[39m\u001b[38;5;124m'\u001b[39m])\n\u001b[0;32m     34\u001b[0m     \u001b[38;5;28;01mdel\u001b[39;00m kwargs[\u001b[38;5;124m'\u001b[39m\u001b[38;5;124mdescription_tooltip\u001b[39m\u001b[38;5;124m'\u001b[39m]\n\u001b[1;32m---> 35\u001b[0m \u001b[38;5;28;43msuper\u001b[39;49m\u001b[43m(\u001b[49m\u001b[43m)\u001b[49m\u001b[38;5;241;43m.\u001b[39;49m\u001b[38;5;21;43m__init__\u001b[39;49m\u001b[43m(\u001b[49m\u001b[38;5;241;43m*\u001b[39;49m\u001b[43margs\u001b[49m\u001b[43m,\u001b[49m\u001b[43m \u001b[49m\u001b[38;5;241;43m*\u001b[39;49m\u001b[38;5;241;43m*\u001b[39;49m\u001b[43mkwargs\u001b[49m\u001b[43m)\u001b[49m\n",
      "File \u001b[1;32md:\\Anaconda\\Lib\\site-packages\\ipywidgets\\widgets\\widget.py:502\u001b[0m, in \u001b[0;36mWidget.__init__\u001b[1;34m(self, **kwargs)\u001b[0m\n\u001b[0;32m    500\u001b[0m \u001b[38;5;250m\u001b[39m\u001b[38;5;124;03m\"\"\"Public constructor\"\"\"\u001b[39;00m\n\u001b[0;32m    501\u001b[0m \u001b[38;5;28mself\u001b[39m\u001b[38;5;241m.\u001b[39m_model_id \u001b[38;5;241m=\u001b[39m kwargs\u001b[38;5;241m.\u001b[39mpop(\u001b[38;5;124m'\u001b[39m\u001b[38;5;124mmodel_id\u001b[39m\u001b[38;5;124m'\u001b[39m, \u001b[38;5;28;01mNone\u001b[39;00m)\n\u001b[1;32m--> 502\u001b[0m \u001b[38;5;28;43msuper\u001b[39;49m\u001b[43m(\u001b[49m\u001b[43m)\u001b[49m\u001b[38;5;241;43m.\u001b[39;49m\u001b[38;5;21;43m__init__\u001b[39;49m\u001b[43m(\u001b[49m\u001b[38;5;241;43m*\u001b[39;49m\u001b[38;5;241;43m*\u001b[39;49m\u001b[43mkwargs\u001b[49m\u001b[43m)\u001b[49m\n\u001b[0;32m    504\u001b[0m Widget\u001b[38;5;241m.\u001b[39m_call_widget_constructed(\u001b[38;5;28mself\u001b[39m)\n\u001b[0;32m    505\u001b[0m \u001b[38;5;28mself\u001b[39m\u001b[38;5;241m.\u001b[39mopen()\n",
      "File \u001b[1;32m~\\AppData\\Roaming\\Python\\Python311\\site-packages\\traitlets\\traitlets.py:1361\u001b[0m, in \u001b[0;36mHasTraits.__init__\u001b[1;34m(self, *args, **kwargs)\u001b[0m\n\u001b[0;32m   1359\u001b[0m changed \u001b[38;5;241m=\u001b[39m \u001b[38;5;28mset\u001b[39m(kwargs) \u001b[38;5;241m&\u001b[39m \u001b[38;5;28mset\u001b[39m(\u001b[38;5;28mself\u001b[39m\u001b[38;5;241m.\u001b[39m_traits)\n\u001b[0;32m   1360\u001b[0m \u001b[38;5;28;01mfor\u001b[39;00m key \u001b[38;5;129;01min\u001b[39;00m changed:\n\u001b[1;32m-> 1361\u001b[0m     value \u001b[38;5;241m=\u001b[39m \u001b[38;5;28;43mself\u001b[39;49m\u001b[38;5;241;43m.\u001b[39;49m\u001b[43m_traits\u001b[49m\u001b[43m[\u001b[49m\u001b[43mkey\u001b[49m\u001b[43m]\u001b[49m\u001b[38;5;241;43m.\u001b[39;49m\u001b[43m_cross_validate\u001b[49m\u001b[43m(\u001b[49m\u001b[38;5;28;43mself\u001b[39;49m\u001b[43m,\u001b[49m\u001b[43m \u001b[49m\u001b[38;5;28;43mgetattr\u001b[39;49m\u001b[43m(\u001b[49m\u001b[38;5;28;43mself\u001b[39;49m\u001b[43m,\u001b[49m\u001b[43m \u001b[49m\u001b[43mkey\u001b[49m\u001b[43m)\u001b[49m\u001b[43m)\u001b[49m\n\u001b[0;32m   1362\u001b[0m     \u001b[38;5;28mself\u001b[39m\u001b[38;5;241m.\u001b[39mset_trait(key, value)\n\u001b[0;32m   1363\u001b[0m     changes[key][\u001b[38;5;124m'\u001b[39m\u001b[38;5;124mnew\u001b[39m\u001b[38;5;124m'\u001b[39m] \u001b[38;5;241m=\u001b[39m value\n",
      "File \u001b[1;32m~\\AppData\\Roaming\\Python\\Python311\\site-packages\\traitlets\\traitlets.py:746\u001b[0m, in \u001b[0;36mTraitType._cross_validate\u001b[1;34m(self, obj, value)\u001b[0m\n\u001b[0;32m    744\u001b[0m \u001b[38;5;28;01mif\u001b[39;00m \u001b[38;5;28mself\u001b[39m\u001b[38;5;241m.\u001b[39mname \u001b[38;5;129;01min\u001b[39;00m obj\u001b[38;5;241m.\u001b[39m_trait_validators:\n\u001b[0;32m    745\u001b[0m     proposal \u001b[38;5;241m=\u001b[39m Bunch({\u001b[38;5;124m\"\u001b[39m\u001b[38;5;124mtrait\u001b[39m\u001b[38;5;124m\"\u001b[39m: \u001b[38;5;28mself\u001b[39m, \u001b[38;5;124m\"\u001b[39m\u001b[38;5;124mvalue\u001b[39m\u001b[38;5;124m\"\u001b[39m: value, \u001b[38;5;124m\"\u001b[39m\u001b[38;5;124mowner\u001b[39m\u001b[38;5;124m\"\u001b[39m: obj})\n\u001b[1;32m--> 746\u001b[0m     value \u001b[38;5;241m=\u001b[39m \u001b[43mobj\u001b[49m\u001b[38;5;241;43m.\u001b[39;49m\u001b[43m_trait_validators\u001b[49m\u001b[43m[\u001b[49m\u001b[38;5;28;43mself\u001b[39;49m\u001b[38;5;241;43m.\u001b[39;49m\u001b[43mname\u001b[49m\u001b[43m]\u001b[49m\u001b[43m(\u001b[49m\u001b[43mobj\u001b[49m\u001b[43m,\u001b[49m\u001b[43m \u001b[49m\u001b[43mproposal\u001b[49m\u001b[43m)\u001b[49m\n\u001b[0;32m    747\u001b[0m \u001b[38;5;28;01melif\u001b[39;00m \u001b[38;5;28mhasattr\u001b[39m(obj, \u001b[38;5;124m\"\u001b[39m\u001b[38;5;124m_\u001b[39m\u001b[38;5;132;01m%s\u001b[39;00m\u001b[38;5;124m_validate\u001b[39m\u001b[38;5;124m\"\u001b[39m \u001b[38;5;241m%\u001b[39m \u001b[38;5;28mself\u001b[39m\u001b[38;5;241m.\u001b[39mname):\n\u001b[0;32m    748\u001b[0m     meth_name \u001b[38;5;241m=\u001b[39m \u001b[38;5;124m\"\u001b[39m\u001b[38;5;124m_\u001b[39m\u001b[38;5;132;01m%s\u001b[39;00m\u001b[38;5;124m_validate\u001b[39m\u001b[38;5;124m\"\u001b[39m \u001b[38;5;241m%\u001b[39m \u001b[38;5;28mself\u001b[39m\u001b[38;5;241m.\u001b[39mname\n",
      "File \u001b[1;32m~\\AppData\\Roaming\\Python\\Python311\\site-packages\\traitlets\\traitlets.py:1233\u001b[0m, in \u001b[0;36mEventHandler.__call__\u001b[1;34m(self, *args, **kwargs)\u001b[0m\n\u001b[0;32m   1231\u001b[0m \u001b[38;5;250m\u001b[39m\u001b[38;5;124;03m\"\"\"Pass `*args` and `**kwargs` to the handler's function if it exists.\"\"\"\u001b[39;00m\n\u001b[0;32m   1232\u001b[0m \u001b[38;5;28;01mif\u001b[39;00m \u001b[38;5;28mhasattr\u001b[39m(\u001b[38;5;28mself\u001b[39m, \u001b[38;5;124m\"\u001b[39m\u001b[38;5;124mfunc\u001b[39m\u001b[38;5;124m\"\u001b[39m):\n\u001b[1;32m-> 1233\u001b[0m     \u001b[38;5;28;01mreturn\u001b[39;00m \u001b[38;5;28;43mself\u001b[39;49m\u001b[38;5;241;43m.\u001b[39;49m\u001b[43mfunc\u001b[49m\u001b[43m(\u001b[49m\u001b[38;5;241;43m*\u001b[39;49m\u001b[43margs\u001b[49m\u001b[43m,\u001b[49m\u001b[43m \u001b[49m\u001b[38;5;241;43m*\u001b[39;49m\u001b[38;5;241;43m*\u001b[39;49m\u001b[43mkwargs\u001b[49m\u001b[43m)\u001b[49m\n\u001b[0;32m   1234\u001b[0m \u001b[38;5;28;01melse\u001b[39;00m:\n\u001b[0;32m   1235\u001b[0m     \u001b[38;5;28;01mreturn\u001b[39;00m \u001b[38;5;28mself\u001b[39m\u001b[38;5;241m.\u001b[39m_init_call(\u001b[38;5;241m*\u001b[39margs, \u001b[38;5;241m*\u001b[39m\u001b[38;5;241m*\u001b[39mkwargs)\n",
      "File \u001b[1;32md:\\Anaconda\\Lib\\site-packages\\ipywidgets\\widgets\\widget_int.py:110\u001b[0m, in \u001b[0;36m_BoundedInt._validate_min\u001b[1;34m(self, proposal)\u001b[0m\n\u001b[0;32m    108\u001b[0m \u001b[38;5;28mmin\u001b[39m \u001b[38;5;241m=\u001b[39m proposal[\u001b[38;5;124m'\u001b[39m\u001b[38;5;124mvalue\u001b[39m\u001b[38;5;124m'\u001b[39m]\n\u001b[0;32m    109\u001b[0m \u001b[38;5;28;01mif\u001b[39;00m \u001b[38;5;28mmin\u001b[39m \u001b[38;5;241m>\u001b[39m \u001b[38;5;28mself\u001b[39m\u001b[38;5;241m.\u001b[39mmax:\n\u001b[1;32m--> 110\u001b[0m     \u001b[38;5;28;01mraise\u001b[39;00m TraitError(\u001b[38;5;124m'\u001b[39m\u001b[38;5;124msetting min > max\u001b[39m\u001b[38;5;124m'\u001b[39m)\n\u001b[0;32m    111\u001b[0m \u001b[38;5;28;01mif\u001b[39;00m \u001b[38;5;28mmin\u001b[39m \u001b[38;5;241m>\u001b[39m \u001b[38;5;28mself\u001b[39m\u001b[38;5;241m.\u001b[39mvalue:\n\u001b[0;32m    112\u001b[0m     \u001b[38;5;28mself\u001b[39m\u001b[38;5;241m.\u001b[39mvalue \u001b[38;5;241m=\u001b[39m \u001b[38;5;28mmin\u001b[39m\n",
      "\u001b[1;31mTraitError\u001b[0m: setting min > max"
     ]
    }
   ],
   "source": [
    "dataset = 'train'\n",
    "# Match images in the no damage and damage dataset based on the location coordinates in the file name\n",
    "matches = list(set(metadata.query(f'subset == \"{dataset}\" & label == \"visible_damage\"')['filename'])\n",
    "               .intersection(metadata.query(f'subset == \"{dataset}\" & label == \"no_damage\"')['filename']))\n",
    "\n",
    "# Load index slider to navigate between the paired images\n",
    "file_index_widget = widgets.IntSlider(min=0, max=len(matches)-1, value=10, description='Image Num')\n",
    "\n",
    "# Load visualizer to match paired images\n",
    "interact(utils.interactive_plot_pair(f'../../data/{dataset}/', matches), file_index=file_index_widget);"
   ]
  }
 ],
 "metadata": {
  "kernelspec": {
   "display_name": "base",
   "language": "python",
   "name": "python3"
  },
  "language_info": {
   "codemirror_mode": {
    "name": "ipython",
    "version": 3
   },
   "file_extension": ".py",
   "mimetype": "text/x-python",
   "name": "python",
   "nbconvert_exporter": "python",
   "pygments_lexer": "ipython3",
   "version": "3.11.4"
  }
 },
 "nbformat": 4,
 "nbformat_minor": 2
}
