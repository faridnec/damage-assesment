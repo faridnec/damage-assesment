{
 "cells": [
  {
   "cell_type": "markdown",
   "metadata": {},
   "source": [
    "# Classifier Model with CNN\n",
    "\n",
    "Modeli hem hasarsız hem de hasarlı etiketlerinin bir kombinasyonu üzerinde eğiterek amacı modelin hasarlı ilişkili özellikleri ve modelleri öğrenmesini sağlayarak test veya değerlendirme sırasında yeni, görünmeyen görüntüler üzerinde tahminlerde bulunmasına olanak sağlamaktır. Eğitim süreci, aralarındaki farkları öğrenmek için her iki sınıftan etiketli örneklerle modelin sunulmasını içerir."
   ]
  }
 ],
 "metadata": {
  "language_info": {
   "name": "python"
  }
 },
 "nbformat": 4,
 "nbformat_minor": 2
}
